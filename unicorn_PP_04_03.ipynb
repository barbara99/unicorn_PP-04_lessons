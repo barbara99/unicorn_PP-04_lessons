{
  "nbformat": 4,
  "nbformat_minor": 0,
  "metadata": {
    "colab": {
      "name": "unicorn_PP-04-03",
      "provenance": [],
      "authorship_tag": "ABX9TyPF+spsIgbd0NTfuV5b5aOU",
      "include_colab_link": true
    },
    "kernelspec": {
      "name": "python3",
      "display_name": "Python 3"
    },
    "language_info": {
      "name": "python"
    }
  },
  "cells": [
    {
      "cell_type": "markdown",
      "metadata": {
        "id": "view-in-github",
        "colab_type": "text"
      },
      "source": [
        "<a href=\"https://colab.research.google.com/github/barbara99/unicorn_PP-04_lessons/blob/main/unicorn_PP_04_03.ipynb\" target=\"_parent\"><img src=\"https://colab.research.google.com/assets/colab-badge.svg\" alt=\"Open In Colab\"/></a>"
      ]
    },
    {
      "cell_type": "code",
      "metadata": {
        "colab": {
          "base_uri": "https://localhost:8080/"
        },
        "id": "oDNvKsA0H8s3",
        "outputId": "679513ef-1971-47eb-8007-7d572c91fdf9"
      },
      "source": [
        "#print statement\n",
        "print(\"hello world\")"
      ],
      "execution_count": 1,
      "outputs": [
        {
          "output_type": "stream",
          "text": [
            "hello world\n"
          ],
          "name": "stdout"
        }
      ]
    },
    {
      "cell_type": "code",
      "metadata": {
        "id": "Yi6a-oj1IiUs"
      },
      "source": [
        "x = \"Welcome to python class - Unicorn\""
      ],
      "execution_count": 2,
      "outputs": []
    },
    {
      "cell_type": "code",
      "metadata": {
        "colab": {
          "base_uri": "https://localhost:8080/"
        },
        "id": "swF_KjJaI0bh",
        "outputId": "dc384550-485d-4e61-8888-d1c39eaf1a0a"
      },
      "source": [
        "print(x)"
      ],
      "execution_count": 3,
      "outputs": [
        {
          "output_type": "stream",
          "text": [
            "Welcome to python class - Unicorn\n"
          ],
          "name": "stdout"
        }
      ]
    },
    {
      "cell_type": "code",
      "metadata": {
        "colab": {
          "base_uri": "https://localhost:8080/"
        },
        "id": "E1JDhAYpI9H8",
        "outputId": "2b7bad8e-01b4-454e-ad51-7a1e03e6ef1e"
      },
      "source": [
        "type(x)"
      ],
      "execution_count": 4,
      "outputs": [
        {
          "output_type": "execute_result",
          "data": {
            "text/plain": [
              "str"
            ]
          },
          "metadata": {
            "tags": []
          },
          "execution_count": 4
        }
      ]
    },
    {
      "cell_type": "code",
      "metadata": {
        "id": "WgihOjlmJY8I"
      },
      "source": [
        "student_name = \"Barbara\"\n"
      ],
      "execution_count": 7,
      "outputs": []
    },
    {
      "cell_type": "code",
      "metadata": {
        "colab": {
          "base_uri": "https://localhost:8080/"
        },
        "id": "gednnToSJil0",
        "outputId": "dfdab441-f0ab-44a8-83e5-bd6f0e515dca"
      },
      "source": [
        "print(\"My name is {}\".format(student_name))"
      ],
      "execution_count": 8,
      "outputs": [
        {
          "output_type": "stream",
          "text": [
            "My name is Barbara\n"
          ],
          "name": "stdout"
        }
      ]
    },
    {
      "cell_type": "code",
      "metadata": {
        "id": "xOOMboePK9UG"
      },
      "source": [
        "company_name = \"unicorn\"\n",
        "number_of_students = 55"
      ],
      "execution_count": 10,
      "outputs": []
    },
    {
      "cell_type": "code",
      "metadata": {
        "colab": {
          "base_uri": "https://localhost:8080/"
        },
        "id": "D3RcErq3LlwS",
        "outputId": "46b97d2c-579b-4fa8-d0e9-aab717f44860"
      },
      "source": [
        "print(\"There are {} number of students at {}\".format(number_of_students, company_name))"
      ],
      "execution_count": 11,
      "outputs": [
        {
          "output_type": "stream",
          "text": [
            "There are 55 number of students at unicorn\n"
          ],
          "name": "stdout"
        }
      ]
    },
    {
      "cell_type": "code",
      "metadata": {
        "id": "4JUWG3puRfCd"
      },
      "source": [
        "#get user input"
      ],
      "execution_count": null,
      "outputs": []
    },
    {
      "cell_type": "code",
      "metadata": {
        "colab": {
          "base_uri": "https://localhost:8080/"
        },
        "id": "uMIczLVwPDR5",
        "outputId": "dfad2518-dd1d-43d9-d39a-7f758c5e3af7"
      },
      "source": [
        "firstname = input(\"What is your name: \")"
      ],
      "execution_count": 16,
      "outputs": [
        {
          "output_type": "stream",
          "text": [
            "What is your name: ama\n"
          ],
          "name": "stdout"
        }
      ]
    },
    {
      "cell_type": "code",
      "metadata": {
        "colab": {
          "base_uri": "https://localhost:8080/"
        },
        "id": "HMcKxYTjPgXV",
        "outputId": "58b308bb-09d4-4d3a-a006-ee8c7582d718"
      },
      "source": [
        "print(\"Hello\", firstname)"
      ],
      "execution_count": 22,
      "outputs": [
        {
          "output_type": "stream",
          "text": [
            "Hello ama\n"
          ],
          "name": "stdout"
        }
      ]
    },
    {
      "cell_type": "code",
      "metadata": {
        "colab": {
          "base_uri": "https://localhost:8080/",
          "height": 229
        },
        "id": "0-ZQaNbqP74q",
        "outputId": "3c0f3d98-1171-4e1d-eafc-66553e006588"
      },
      "source": [
        "x = input(\"Enter the tuition fees for a course: \")\n",
        "y = input(\"Enter the number of courses to be offered: \")\n",
        "print(\"The total funds required to take {} number of courses at {} is {}\".format(y,x, x*y))"
      ],
      "execution_count": 24,
      "outputs": [
        {
          "output_type": "stream",
          "text": [
            "Enter the tuition fees for a course: 700\n",
            "Enter the number of courses to be offered: 5\n"
          ],
          "name": "stdout"
        },
        {
          "output_type": "error",
          "ename": "TypeError",
          "evalue": "ignored",
          "traceback": [
            "\u001b[0;31m---------------------------------------------------------------------------\u001b[0m",
            "\u001b[0;31mTypeError\u001b[0m                                 Traceback (most recent call last)",
            "\u001b[0;32m<ipython-input-24-e85d05ecafb2>\u001b[0m in \u001b[0;36m<module>\u001b[0;34m()\u001b[0m\n\u001b[1;32m      1\u001b[0m \u001b[0mx\u001b[0m \u001b[0;34m=\u001b[0m \u001b[0minput\u001b[0m\u001b[0;34m(\u001b[0m\u001b[0;34m\"Enter the tuition fees for a course: \"\u001b[0m\u001b[0;34m)\u001b[0m\u001b[0;34m\u001b[0m\u001b[0;34m\u001b[0m\u001b[0m\n\u001b[1;32m      2\u001b[0m \u001b[0my\u001b[0m \u001b[0;34m=\u001b[0m \u001b[0minput\u001b[0m\u001b[0;34m(\u001b[0m\u001b[0;34m\"Enter the number of courses to be offered: \"\u001b[0m\u001b[0;34m)\u001b[0m\u001b[0;34m\u001b[0m\u001b[0;34m\u001b[0m\u001b[0m\n\u001b[0;32m----> 3\u001b[0;31m \u001b[0mprint\u001b[0m\u001b[0;34m(\u001b[0m\u001b[0;34m\"The total funds required to take {} number of courses at {} is {}\"\u001b[0m\u001b[0;34m.\u001b[0m\u001b[0mformat\u001b[0m\u001b[0;34m(\u001b[0m\u001b[0my\u001b[0m\u001b[0;34m,\u001b[0m\u001b[0mx\u001b[0m\u001b[0;34m,\u001b[0m \u001b[0mx\u001b[0m\u001b[0;34m*\u001b[0m\u001b[0my\u001b[0m\u001b[0;34m)\u001b[0m\u001b[0;34m)\u001b[0m\u001b[0;34m\u001b[0m\u001b[0;34m\u001b[0m\u001b[0m\n\u001b[0m",
            "\u001b[0;31mTypeError\u001b[0m: can't multiply sequence by non-int of type 'str'"
          ]
        }
      ]
    },
    {
      "cell_type": "code",
      "metadata": {
        "colab": {
          "base_uri": "https://localhost:8080/"
        },
        "id": "TQgppb1hVdGo",
        "outputId": "e561981f-8c27-413a-f7f2-ceac6c96a375"
      },
      "source": [
        "x = input(\"Enter the tuition fees for a course: \")\n",
        "\n",
        "y = input(\"Enter the number of courses to be offered: \")\n",
        "z = int(x) * int(y)\n",
        "print(\"The total funds required to take {} number of courses at {} is {}\".format(y,x, z))"
      ],
      "execution_count": 27,
      "outputs": [
        {
          "output_type": "stream",
          "text": [
            "Enter the tuition fees for a course: 700\n",
            "Enter the number of courses to be offered: 6\n",
            "The total funds required to take 6 number of courses at 700 is 4200\n"
          ],
          "name": "stdout"
        }
      ]
    },
    {
      "cell_type": "code",
      "metadata": {
        "colab": {
          "base_uri": "https://localhost:8080/"
        },
        "id": "JrcHiJF9a0B3",
        "outputId": "6c16790d-5b2d-4d20-820d-be47bfbe9c8c"
      },
      "source": [
        "#datatypes\n",
        "#booleans\n",
        "True "
      ],
      "execution_count": 28,
      "outputs": [
        {
          "output_type": "execute_result",
          "data": {
            "text/plain": [
              "True"
            ]
          },
          "metadata": {
            "tags": []
          },
          "execution_count": 28
        }
      ]
    },
    {
      "cell_type": "code",
      "metadata": {
        "colab": {
          "base_uri": "https://localhost:8080/"
        },
        "id": "qN7CSb6tb6lJ",
        "outputId": "a94d01fb-3fba-4aba-8638-b3b8efa688a6"
      },
      "source": [
        "False"
      ],
      "execution_count": 29,
      "outputs": [
        {
          "output_type": "execute_result",
          "data": {
            "text/plain": [
              "False"
            ]
          },
          "metadata": {
            "tags": []
          },
          "execution_count": 29
        }
      ]
    },
    {
      "cell_type": "code",
      "metadata": {
        "colab": {
          "base_uri": "https://localhost:8080/"
        },
        "id": "RvtM-6nEcRVl",
        "outputId": "19651184-247c-4b32-bceb-ff0dea74b824"
      },
      "source": [
        "goats = 4\n",
        "cows = 8\n",
        "goats == cows < > <= >="
      ],
      "execution_count": 34,
      "outputs": [
        {
          "output_type": "execute_result",
          "data": {
            "text/plain": [
              "False"
            ]
          },
          "metadata": {
            "tags": []
          },
          "execution_count": 34
        }
      ]
    },
    {
      "cell_type": "code",
      "metadata": {
        "id": "mX0oFEqhd2C3"
      },
      "source": [
        "#list, dictionaries and tuples"
      ],
      "execution_count": null,
      "outputs": []
    }
  ]
}